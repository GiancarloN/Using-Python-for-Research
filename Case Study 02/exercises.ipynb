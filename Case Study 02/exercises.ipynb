{
 "cells": [
  {
   "cell_type": "code",
   "execution_count": 3,
   "metadata": {},
   "outputs": [],
   "source": [
    "text = \"This is my test text. We're keeping this text short to keep things manageable.\""
   ]
  },
  {
   "cell_type": "code",
   "execution_count": 4,
   "metadata": {},
   "outputs": [],
   "source": [
    "def count_words(text):\n",
    "    \"\"\"Count the number of times each word occurs in text (str). Return dictionary\n",
    "    where keys are unique words and values are word counts.\n",
    "    Skip punctuation.\"\"\"\n",
    "    \n",
    "    text= text.lower()\n",
    "    skips = [\".\", \",\", \";\", \":\", \"'\", '\"']\n",
    "\n",
    "    for ch in skips:\n",
    "        text = text.replace(ch, \"\")\n",
    "\n",
    "    word_counts = {}\n",
    "    for word in text.split(\" \"):\n",
    "        if word in word_counts:\n",
    "            word_counts[word] += 1\n",
    "        else:\n",
    "            word_counts[word] = 1\n",
    "\n",
    "    return word_counts"
   ]
  },
  {
   "cell_type": "code",
   "execution_count": 5,
   "metadata": {},
   "outputs": [
    {
     "data": {
      "text/plain": [
       "{'this': 2,\n",
       " 'is': 1,\n",
       " 'my': 1,\n",
       " 'test': 1,\n",
       " 'text': 2,\n",
       " 'were': 1,\n",
       " 'keeping': 1,\n",
       " 'short': 1,\n",
       " 'to': 1,\n",
       " 'keep': 1,\n",
       " 'things': 1,\n",
       " 'manageable': 1}"
      ]
     },
     "execution_count": 5,
     "metadata": {},
     "output_type": "execute_result"
    }
   ],
   "source": [
    "count_words(text)"
   ]
  },
  {
   "cell_type": "code",
   "execution_count": 6,
   "metadata": {},
   "outputs": [],
   "source": [
    "from collections import Counter"
   ]
  },
  {
   "cell_type": "code",
   "execution_count": 7,
   "metadata": {},
   "outputs": [],
   "source": [
    "def count_words_fast(text):\n",
    "    \"\"\"Count the number of times each word occurs in text (str). Return dictionary\n",
    "    where keys are unique words and values are word counts.\n",
    "    Skip punctuation.\"\"\"\n",
    "    \n",
    "    text= text.lower()\n",
    "    skips = [\".\", \",\", \";\", \":\", \"'\", '\"']\n",
    "\n",
    "    for ch in skips:\n",
    "        text = text.replace(ch, \"\")\n",
    "\n",
    "    word_counts = Counter(text.split(\" \"))\n",
    "\n",
    "    return word_counts"
   ]
  },
  {
   "cell_type": "code",
   "execution_count": 8,
   "metadata": {},
   "outputs": [
    {
     "data": {
      "text/plain": [
       "Counter({'this': 2,\n",
       "         'is': 1,\n",
       "         'my': 1,\n",
       "         'test': 1,\n",
       "         'text': 2,\n",
       "         'were': 1,\n",
       "         'keeping': 1,\n",
       "         'short': 1,\n",
       "         'to': 1,\n",
       "         'keep': 1,\n",
       "         'things': 1,\n",
       "         'manageable': 1})"
      ]
     },
     "execution_count": 8,
     "metadata": {},
     "output_type": "execute_result"
    }
   ],
   "source": [
    "count_words_fast(text)"
   ]
  },
  {
   "cell_type": "code",
   "execution_count": 9,
   "metadata": {},
   "outputs": [
    {
     "data": {
      "text/plain": [
       "6"
      ]
     },
     "execution_count": 9,
     "metadata": {},
     "output_type": "execute_result"
    }
   ],
   "source": [
    "len(count_words(\"This comprehension check is to check for comprehension.\"))"
   ]
  },
  {
   "cell_type": "code",
   "execution_count": 10,
   "metadata": {},
   "outputs": [
    {
     "data": {
      "text/plain": [
       "False"
      ]
     },
     "execution_count": 10,
     "metadata": {},
     "output_type": "execute_result"
    }
   ],
   "source": [
    "count_words(text) is count_words_fast(text)"
   ]
  },
  {
   "cell_type": "code",
   "execution_count": 11,
   "metadata": {},
   "outputs": [],
   "source": [
    "def read_book(title_path):\n",
    "    \"\"\"Read a book and return it as a string.\"\"\"\n",
    "    with open(title_path, \"r\", encoding=\"utf8\") as current_file:\n",
    "        text = current_file.read()\n",
    "        text = text.replace(\"\\n\", \"\").replace(\"\\r\", \"\")\n",
    "    \n",
    "    return text"
   ]
  },
  {
   "cell_type": "code",
   "execution_count": 12,
   "metadata": {},
   "outputs": [],
   "source": [
    "text = read_book(\"./Books/English/shakespeare/Romeo and Juliet.txt\")"
   ]
  },
  {
   "cell_type": "code",
   "execution_count": 13,
   "metadata": {},
   "outputs": [],
   "source": [
    "ind = text.find(\"What's in a name?\")"
   ]
  },
  {
   "cell_type": "code",
   "execution_count": 14,
   "metadata": {},
   "outputs": [],
   "source": [
    "sample_text = text[ind:ind + 1000]"
   ]
  },
  {
   "cell_type": "code",
   "execution_count": 15,
   "metadata": {},
   "outputs": [],
   "source": [
    "def word_stats(word_counts):\n",
    "    \"\"\"Return number of unique words and word frequencies.\"\"\"\n",
    "    num_unique = len(word_counts)\n",
    "    counts = word_counts.values()\n",
    "    return (num_unique, counts)"
   ]
  },
  {
   "cell_type": "code",
   "execution_count": 16,
   "metadata": {},
   "outputs": [],
   "source": [
    "text_en = read_book(\"./Books/English/shakespeare/Romeo and Juliet.txt\")"
   ]
  },
  {
   "cell_type": "code",
   "execution_count": 17,
   "metadata": {},
   "outputs": [],
   "source": [
    "word_counts = count_words(text_en)"
   ]
  },
  {
   "cell_type": "code",
   "execution_count": 18,
   "metadata": {},
   "outputs": [],
   "source": [
    "(num_unique, counts) = word_stats(word_counts)"
   ]
  },
  {
   "cell_type": "code",
   "execution_count": 19,
   "metadata": {},
   "outputs": [
    {
     "data": {
      "text/plain": [
       "5118"
      ]
     },
     "execution_count": 19,
     "metadata": {},
     "output_type": "execute_result"
    }
   ],
   "source": [
    "num_unique"
   ]
  },
  {
   "cell_type": "code",
   "execution_count": 20,
   "metadata": {},
   "outputs": [],
   "source": [
    "text_de = read_book(\"./Books/German/shakespeare/Romeo und Julia.txt\")"
   ]
  },
  {
   "cell_type": "code",
   "execution_count": 21,
   "metadata": {},
   "outputs": [],
   "source": [
    "word_counts_de = count_words(text_de)"
   ]
  },
  {
   "cell_type": "code",
   "execution_count": 22,
   "metadata": {},
   "outputs": [],
   "source": [
    "(num_unique_de, counts_de) = word_stats(word_counts_de)"
   ]
  },
  {
   "cell_type": "code",
   "execution_count": 23,
   "metadata": {},
   "outputs": [
    {
     "data": {
      "text/plain": [
       "7527"
      ]
     },
     "execution_count": 23,
     "metadata": {},
     "output_type": "execute_result"
    }
   ],
   "source": [
    "num_unique_de"
   ]
  },
  {
   "cell_type": "code",
   "execution_count": 25,
   "metadata": {},
   "outputs": [],
   "source": [
    "import os\n",
    "book_dir = \"./Books\""
   ]
  },
  {
   "cell_type": "code",
   "execution_count": 55,
   "metadata": {},
   "outputs": [],
   "source": [
    "import pandas as pd\n",
    "stats = pd.DataFrame(columns= (\"language\", \"author\", \"title\", \"length\", \"unique\"))\n",
    "title_num = 1"
   ]
  },
  {
   "cell_type": "code",
   "execution_count": 56,
   "metadata": {},
   "outputs": [],
   "source": [
    "for language in os.listdir(book_dir):\n",
    "    if not language.startswith('.'):\n",
    "        for author in os.listdir(book_dir + \"/\" + language):\n",
    "            if not author.startswith('.'):\n",
    "                for title in os.listdir(book_dir + \"/\" + language + \"/\" + author):\n",
    "                    if not title.startswith('.'):\n",
    "                        input_file = book_dir + \"/\" + language + \"/\" + author + \"/\" + title\n",
    "                        text = read_book(input_file)\n",
    "                        (num_unique, counts) = word_stats(count_words(text))\n",
    "                        stats.loc[title_num] = language, author.capitalize(), title.replace(\".txt\", \"\"), sum(counts), num_unique \n",
    "                        title_num += 1"
   ]
  },
  {
   "cell_type": "code",
   "execution_count": 57,
   "metadata": {},
   "outputs": [
    {
     "data": {
      "text/html": [
       "<div>\n",
       "<style scoped>\n",
       "    .dataframe tbody tr th:only-of-type {\n",
       "        vertical-align: middle;\n",
       "    }\n",
       "\n",
       "    .dataframe tbody tr th {\n",
       "        vertical-align: top;\n",
       "    }\n",
       "\n",
       "    .dataframe thead th {\n",
       "        text-align: right;\n",
       "    }\n",
       "</style>\n",
       "<table border=\"1\" class=\"dataframe\">\n",
       "  <thead>\n",
       "    <tr style=\"text-align: right;\">\n",
       "      <th></th>\n",
       "      <th>language</th>\n",
       "      <th>author</th>\n",
       "      <th>title</th>\n",
       "      <th>length</th>\n",
       "      <th>unique</th>\n",
       "    </tr>\n",
       "  </thead>\n",
       "  <tbody>\n",
       "    <tr>\n",
       "      <th>1</th>\n",
       "      <td>German</td>\n",
       "      <td>Schiller</td>\n",
       "      <td>Wallensteins Lager</td>\n",
       "      <td>15443</td>\n",
       "      <td>4379</td>\n",
       "    </tr>\n",
       "    <tr>\n",
       "      <th>2</th>\n",
       "      <td>German</td>\n",
       "      <td>Schiller</td>\n",
       "      <td>die braut von messina</td>\n",
       "      <td>26482</td>\n",
       "      <td>6655</td>\n",
       "    </tr>\n",
       "    <tr>\n",
       "      <th>3</th>\n",
       "      <td>German</td>\n",
       "      <td>Schiller</td>\n",
       "      <td>Der Parasit, oder die Kunst, sein GlÅck zu ma...</td>\n",
       "      <td>20450</td>\n",
       "      <td>6159</td>\n",
       "    </tr>\n",
       "    <tr>\n",
       "      <th>4</th>\n",
       "      <td>German</td>\n",
       "      <td>Schiller</td>\n",
       "      <td>Die Verschwîrung des Fiesco zu Genua</td>\n",
       "      <td>31128</td>\n",
       "      <td>10371</td>\n",
       "    </tr>\n",
       "    <tr>\n",
       "      <th>5</th>\n",
       "      <td>German</td>\n",
       "      <td>Schiller</td>\n",
       "      <td>Kabale und Liebe</td>\n",
       "      <td>30929</td>\n",
       "      <td>9969</td>\n",
       "    </tr>\n",
       "    <tr>\n",
       "      <th>...</th>\n",
       "      <td>...</td>\n",
       "      <td>...</td>\n",
       "      <td>...</td>\n",
       "      <td>...</td>\n",
       "      <td>...</td>\n",
       "    </tr>\n",
       "    <tr>\n",
       "      <th>98</th>\n",
       "      <td>French</td>\n",
       "      <td>Sand</td>\n",
       "      <td>La Marquise</td>\n",
       "      <td>14716</td>\n",
       "      <td>4786</td>\n",
       "    </tr>\n",
       "    <tr>\n",
       "      <th>99</th>\n",
       "      <td>French</td>\n",
       "      <td>Sand</td>\n",
       "      <td>L' Orco</td>\n",
       "      <td>8748</td>\n",
       "      <td>3162</td>\n",
       "    </tr>\n",
       "    <tr>\n",
       "      <th>100</th>\n",
       "      <td>French</td>\n",
       "      <td>Sand</td>\n",
       "      <td>Mattea</td>\n",
       "      <td>21089</td>\n",
       "      <td>6429</td>\n",
       "    </tr>\n",
       "    <tr>\n",
       "      <th>101</th>\n",
       "      <td>French</td>\n",
       "      <td>Sand</td>\n",
       "      <td>Metella</td>\n",
       "      <td>19600</td>\n",
       "      <td>5715</td>\n",
       "    </tr>\n",
       "    <tr>\n",
       "      <th>102</th>\n",
       "      <td>French</td>\n",
       "      <td>Sand</td>\n",
       "      <td>Oeuvres illustrÇes de George Sand</td>\n",
       "      <td>23210</td>\n",
       "      <td>7503</td>\n",
       "    </tr>\n",
       "  </tbody>\n",
       "</table>\n",
       "<p>102 rows × 5 columns</p>\n",
       "</div>"
      ],
      "text/plain": [
       "    language    author                                              title  \\\n",
       "1     German  Schiller                                 Wallensteins Lager   \n",
       "2     German  Schiller                              die braut von messina   \n",
       "3     German  Schiller  Der Parasit, oder die Kunst, sein GlÅck zu ma...   \n",
       "4     German  Schiller              Die Verschwîrung des Fiesco zu Genua   \n",
       "5     German  Schiller                                   Kabale und Liebe   \n",
       "..       ...       ...                                                ...   \n",
       "98    French      Sand                                        La Marquise   \n",
       "99    French      Sand                                            L' Orco   \n",
       "100   French      Sand                                             Mattea   \n",
       "101   French      Sand                                            Metella   \n",
       "102   French      Sand                 Oeuvres illustrÇes de George Sand   \n",
       "\n",
       "     length  unique  \n",
       "1     15443    4379  \n",
       "2     26482    6655  \n",
       "3     20450    6159  \n",
       "4     31128   10371  \n",
       "5     30929    9969  \n",
       "..      ...     ...  \n",
       "98    14716    4786  \n",
       "99     8748    3162  \n",
       "100   21089    6429  \n",
       "101   19600    5715  \n",
       "102   23210    7503  \n",
       "\n",
       "[102 rows x 5 columns]"
      ]
     },
     "execution_count": 57,
     "metadata": {},
     "output_type": "execute_result"
    }
   ],
   "source": [
    "stats"
   ]
  },
  {
   "cell_type": "code",
   "execution_count": 41,
   "metadata": {},
   "outputs": [],
   "source": [
    "import matplotlib.pyplot as plt"
   ]
  },
  {
   "cell_type": "code",
   "execution_count": 59,
   "metadata": {},
   "outputs": [
    {
     "data": {
      "text/plain": [
       "Text(0, 0.5, 'Number of unique words')"
      ]
     },
     "execution_count": 59,
     "metadata": {},
     "output_type": "execute_result"
    },
    {
     "data": {
      "image/png": "[encoded data removed]",
      "text/plain": [
       "<Figure size 1000x1000 with 1 Axes>"
      ]
     },
     "metadata": {},
     "output_type": "display_data"
    }
   ],
   "source": [
    "plt.figure(figsize= (10, 10))\n",
    "subset = stats[stats.language == \"English\"]\n",
    "plt.loglog(subset.length, subset.unique, \"o\", label = \"English\", color = \"crimson\")\n",
    "subset = stats[stats.language == \"French\"]\n",
    "plt.loglog(subset.length, subset.unique, \"o\", label = \"French\", color = \"forestgreen\")\n",
    "subset = stats[stats.language == \"German\"]\n",
    "plt.loglog(subset.length, subset.unique, \"o\", label = \"German\", color = \"orange\")\n",
    "subset = stats[stats.language == \"Portugese\"]\n",
    "plt.loglog(subset.length, subset.unique, \"o\", label = \"Portugese\", color = \"blueviolet\")\n",
    "plt.legend()\n",
    "plt.xlabel(\"Book length\")\n",
    "plt.ylabel(\"Number of unique words\")"
   ]
  },
  {
   "cell_type": "code",
   "execution_count": 60,
   "metadata": {},
   "outputs": [
    {
     "data": {
      "text/plain": [
       "1      15443\n",
       "2      26482\n",
       "3      20450\n",
       "4      31128\n",
       "5      30929\n",
       "       ...  \n",
       "98     14716\n",
       "99      8748\n",
       "100    21089\n",
       "101    19600\n",
       "102    23210\n",
       "Name: length, Length: 102, dtype: int64"
      ]
     },
     "execution_count": 60,
     "metadata": {},
     "output_type": "execute_result"
    }
   ],
   "source": [
    "stats[\"length\"]"
   ]
  },
  {
   "cell_type": "code",
   "execution_count": null,
   "metadata": {},
   "outputs": [],
   "source": []
  }
 ],
 "metadata": {
  "kernelspec": {
   "display_name": "Python 3.9.14 64-bit",
   "language": "python",
   "name": "python3"
  },
  "language_info": {
   "codemirror_mode": {
    "name": "ipython",
    "version": 3
   },
   "file_extension": ".py",
   "mimetype": "text/x-python",
   "name": "python",
   "nbconvert_exporter": "python",
   "pygments_lexer": "ipython3",
   "version": "3.9.14"
  },
  "orig_nbformat": 4,
  "vscode": {
   "interpreter": {
    "hash": "397704579725e15f5c7cb49fe5f0341eb7531c82d19f2c29d197e8b64ab5776b"
   }
  }
 },
 "nbformat": 4,
 "nbformat_minor": 2
}
